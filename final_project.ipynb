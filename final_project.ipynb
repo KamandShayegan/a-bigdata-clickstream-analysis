{
 "cells": [
  {
   "cell_type": "code",
   "execution_count": 1,
   "id": "29199b89-255b-4a1f-86f1-b0fe5b47ff45",
   "metadata": {},
   "outputs": [],
   "source": [
    "%matplotlib inline\n",
    "%config InlineBackend.figure_format = 'retina'\n",
    "from IPython.core.interactiveshell import InteractiveShell\n",
    "InteractiveShell.ast_node_interactivity = \"all\"\n",
    "import sys\n",
    "from pyspark.sql import SparkSession"
   ]
  },
  {
   "cell_type": "code",
   "execution_count": 14,
   "id": "5ce334f4-9439-4158-9fa0-0117829ef2ab",
   "metadata": {},
   "outputs": [],
   "source": [
    " spark = SparkSession.builder \\\n",
    " .master(\"local\") \\\n",
    " .appName(\"Exercise1\") \\\n",
    "    .getOrCreate()\n",
    " "
   ]
  },
  {
   "cell_type": "code",
   "execution_count": 15,
   "id": "9c73d297-2425-49f0-ad6e-7b8ba5824016",
   "metadata": {},
   "outputs": [
    {
     "data": {
      "text/plain": [
       "'/home/jovyan'"
      ]
     },
     "execution_count": 15,
     "metadata": {},
     "output_type": "execute_result"
    }
   ],
   "source": [
    "pwd"
   ]
  },
  {
   "cell_type": "code",
   "execution_count": 21,
   "id": "96892daf-4cd4-4b03-a70d-f22a904a1333",
   "metadata": {},
   "outputs": [],
   "source": [
    "df = spark.read.csv(\"/home/jovyan/e_shop_clothing_2008.csv\", header=True, inferSchema=True, sep=';')"
   ]
  },
  {
   "cell_type": "code",
   "execution_count": 24,
   "id": "bd88fafe-8d49-4ffc-b0d9-b80ffcf47b53",
   "metadata": {},
   "outputs": [
    {
     "name": "stdout",
     "output_type": "stream",
     "text": [
      "-RECORD 0-----------------------\n",
      " year                    | 2008 \n",
      " month                   | 4    \n",
      " day                     | 1    \n",
      " order                   | 1    \n",
      " country                 | 29   \n",
      " session ID              | 1    \n",
      " page 1 (main category)  | 1    \n",
      " page 2 (clothing model) | A13  \n",
      " colour                  | 1    \n",
      " location                | 5    \n",
      " model photography       | 1    \n",
      " price                   | 28   \n",
      " price 2                 | 2    \n",
      " page                    | 1    \n",
      "-RECORD 1-----------------------\n",
      " year                    | 2008 \n",
      " month                   | 4    \n",
      " day                     | 1    \n",
      " order                   | 2    \n",
      " country                 | 29   \n",
      " session ID              | 1    \n",
      " page 1 (main category)  | 1    \n",
      " page 2 (clothing model) | A16  \n",
      " colour                  | 1    \n",
      " location                | 6    \n",
      " model photography       | 1    \n",
      " price                   | 33   \n",
      " price 2                 | 2    \n",
      " page                    | 1    \n",
      "-RECORD 2-----------------------\n",
      " year                    | 2008 \n",
      " month                   | 4    \n",
      " day                     | 1    \n",
      " order                   | 3    \n",
      " country                 | 29   \n",
      " session ID              | 1    \n",
      " page 1 (main category)  | 2    \n",
      " page 2 (clothing model) | B4   \n",
      " colour                  | 10   \n",
      " location                | 2    \n",
      " model photography       | 1    \n",
      " price                   | 52   \n",
      " price 2                 | 1    \n",
      " page                    | 1    \n",
      "-RECORD 3-----------------------\n",
      " year                    | 2008 \n",
      " month                   | 4    \n",
      " day                     | 1    \n",
      " order                   | 4    \n",
      " country                 | 29   \n",
      " session ID              | 1    \n",
      " page 1 (main category)  | 2    \n",
      " page 2 (clothing model) | B17  \n",
      " colour                  | 6    \n",
      " location                | 6    \n",
      " model photography       | 2    \n",
      " price                   | 38   \n",
      " price 2                 | 2    \n",
      " page                    | 1    \n",
      "-RECORD 4-----------------------\n",
      " year                    | 2008 \n",
      " month                   | 4    \n",
      " day                     | 1    \n",
      " order                   | 5    \n",
      " country                 | 29   \n",
      " session ID              | 1    \n",
      " page 1 (main category)  | 2    \n",
      " page 2 (clothing model) | B8   \n",
      " colour                  | 4    \n",
      " location                | 3    \n",
      " model photography       | 2    \n",
      " price                   | 52   \n",
      " price 2                 | 1    \n",
      " page                    | 1    \n",
      "only showing top 5 rows\n",
      "\n"
     ]
    }
   ],
   "source": [
    "df.show(5, vertical=True)"
   ]
  },
  {
   "cell_type": "code",
   "execution_count": 25,
   "id": "e9db2012-f89e-491f-a734-3a2147f8c48c",
   "metadata": {},
   "outputs": [
    {
     "name": "stdout",
     "output_type": "stream",
     "text": [
      "root\n",
      " |-- year: integer (nullable = true)\n",
      " |-- month: integer (nullable = true)\n",
      " |-- day: integer (nullable = true)\n",
      " |-- order: integer (nullable = true)\n",
      " |-- country: integer (nullable = true)\n",
      " |-- session ID: integer (nullable = true)\n",
      " |-- page 1 (main category): integer (nullable = true)\n",
      " |-- page 2 (clothing model): string (nullable = true)\n",
      " |-- colour: integer (nullable = true)\n",
      " |-- location: integer (nullable = true)\n",
      " |-- model photography: integer (nullable = true)\n",
      " |-- price: integer (nullable = true)\n",
      " |-- price 2: integer (nullable = true)\n",
      " |-- page: integer (nullable = true)\n",
      "\n"
     ]
    }
   ],
   "source": [
    "df.printSchema()"
   ]
  },
  {
   "cell_type": "code",
   "execution_count": 29,
   "id": "36a216d9-73fa-4a12-ab73-c08f1e50b968",
   "metadata": {},
   "outputs": [
    {
     "name": "stdout",
     "output_type": "stream",
     "text": [
      "-RECORD 0--------------------------------------\n",
      " summary                 | count               \n",
      " year                    | 165474              \n",
      " month                   | 165474              \n",
      " day                     | 165474              \n",
      " order                   | 165474              \n",
      " country                 | 165474              \n",
      " session ID              | 165474              \n",
      " page 1 (main category)  | 165474              \n",
      " page 2 (clothing model) | 165474              \n",
      " colour                  | 165474              \n",
      " location                | 165474              \n",
      " model photography       | 165474              \n",
      " price                   | 165474              \n",
      " price 2                 | 165474              \n",
      " page                    | 165474              \n",
      "-RECORD 1--------------------------------------\n",
      " summary                 | mean                \n",
      " year                    | 2008.0              \n",
      " month                   | 5.585886604542103   \n",
      " day                     | 14.524553706322443  \n",
      " order                   | 9.817475857234369   \n",
      " country                 | 26.952620955557972  \n",
      " session ID              | 12058.417056455999  \n",
      " page 1 (main category)  | 2.4008424284177576  \n",
      " page 2 (clothing model) | null                \n",
      " colour                  | 6.2276550998948474  \n",
      " location                | 3.2581976624726545  \n",
      " model photography       | 1.260071068566663   \n",
      " price                   | 43.802506738218696  \n",
      " price 2                 | 1.4881673253804224  \n",
      " page                    | 1.7101659475204565  \n",
      "-RECORD 2--------------------------------------\n",
      " summary                 | stddev              \n",
      " year                    | 0.0                 \n",
      " month                   | 1.328160047098377   \n",
      " day                     | 8.830374000943054   \n",
      " order                   | 13.478411349046304  \n",
      " country                 | 7.150690973981155   \n",
      " session ID              | 7008.418902897865   \n",
      " page 1 (main category)  | 1.1444200219515654  \n",
      " page 2 (clothing model) | null                \n",
      " colour                  | 4.235606081622841   \n",
      " location                | 1.7132057755634271  \n",
      " model photography       | 0.4386744473921813  \n",
      " price                   | 12.54813119565564   \n",
      " price 2                 | 0.49986147859752994 \n",
      " page                    | 0.9824121539300715  \n",
      "-RECORD 3--------------------------------------\n",
      " summary                 | min                 \n",
      " year                    | 2008                \n",
      " month                   | 4                   \n",
      " day                     | 1                   \n",
      " order                   | 1                   \n",
      " country                 | 1                   \n",
      " session ID              | 1                   \n",
      " page 1 (main category)  | 1                   \n",
      " page 2 (clothing model) | A1                  \n",
      " colour                  | 1                   \n",
      " location                | 1                   \n",
      " model photography       | 1                   \n",
      " price                   | 18                  \n",
      " price 2                 | 1                   \n",
      " page                    | 1                   \n",
      "-RECORD 4--------------------------------------\n",
      " summary                 | max                 \n",
      " year                    | 2008                \n",
      " month                   | 8                   \n",
      " day                     | 31                  \n",
      " order                   | 195                 \n",
      " country                 | 47                  \n",
      " session ID              | 24026               \n",
      " page 1 (main category)  | 4                   \n",
      " page 2 (clothing model) | P9                  \n",
      " colour                  | 14                  \n",
      " location                | 6                   \n",
      " model photography       | 2                   \n",
      " price                   | 82                  \n",
      " price 2                 | 2                   \n",
      " page                    | 5                   \n",
      "\n"
     ]
    }
   ],
   "source": [
    "df.describe().show(vertical=True)"
   ]
  },
  {
   "cell_type": "code",
   "execution_count": 41,
   "id": "381ffed8-2de4-4d2c-8ac0-5697b3b78b57",
   "metadata": {},
   "outputs": [],
   "source": [
    "from pyspark.sql.functions import col, count, when"
   ]
  },
  {
   "cell_type": "code",
   "execution_count": 38,
   "id": "a7917b85-6516-4bfb-8fbd-5937d7aa89b2",
   "metadata": {},
   "outputs": [
    {
     "data": {
      "text/plain": [
       "165474"
      ]
     },
     "execution_count": 38,
     "metadata": {},
     "output_type": "execute_result"
    }
   ],
   "source": [
    "df.distinct().count()"
   ]
  },
  {
   "cell_type": "code",
   "execution_count": 39,
   "id": "e0b629e4-aeaa-434c-a45a-3251ae418aa5",
   "metadata": {},
   "outputs": [
    {
     "data": {
      "text/plain": [
       "165474"
      ]
     },
     "execution_count": 39,
     "metadata": {},
     "output_type": "execute_result"
    }
   ],
   "source": [
    "df.count()"
   ]
  },
  {
   "cell_type": "code",
   "execution_count": 49,
   "id": "a132f418-4b7a-4c80-8eb5-8c91ace60256",
   "metadata": {},
   "outputs": [
    {
     "name": "stdout",
     "output_type": "stream",
     "text": [
      "+----+-----+---+-----+-------+----------+----------------------+-----------------------+------+--------+-----------------+-----+-------+----+\n",
      "|year|month|day|order|country|session ID|page 1 (main category)|page 2 (clothing model)|colour|location|model photography|price|price 2|page|\n",
      "+----+-----+---+-----+-------+----------+----------------------+-----------------------+------+--------+-----------------+-----+-------+----+\n",
      "|   0|    0|  0|    0|      0|         0|                     0|                      0|     0|       0|                0|    0|      0|   0|\n",
      "+----+-----+---+-----+-------+----------+----------------------+-----------------------+------+--------+-----------------+-----+-------+----+\n",
      "\n",
      "<class 'pyspark.sql.dataframe.DataFrame'>\n"
     ]
    }
   ],
   "source": [
    "missing_val = df.select([count(when(col(c).isNull(),c)).alias(c) for c in df.columns])\n",
    "missing_val.show()\n",
    "print(type(missing_val))"
   ]
  },
  {
   "cell_type": "code",
   "execution_count": 50,
   "id": "66abe6fe-d2c9-4a47-ba81-9e74ff6c0fb5",
   "metadata": {},
   "outputs": [
    {
     "name": "stdout",
     "output_type": "stream",
     "text": [
      "   year  month  day  order  country  session ID  page 1 (main category)  \\\n",
      "0     0      0    0      0        0           0                       0   \n",
      "\n",
      "   page 2 (clothing model)  colour  location  model photography  price  \\\n",
      "0                        0       0         0                  0      0   \n",
      "\n",
      "   price 2  page  \n",
      "0        0     0  \n",
      "<class 'pandas.core.frame.DataFrame'>\n"
     ]
    }
   ],
   "source": [
    "missing_val = df.select([count(when(col(c).isNull(),c)).alias(c) for c in df.columns]).toPandas()\n",
    "print(missing_val)\n",
    "print(type(missing_val))"
   ]
  },
  {
   "cell_type": "code",
   "execution_count": 62,
   "id": "aea1bb61-625e-40b9-b2f9-8cb6ae552f92",
   "metadata": {},
   "outputs": [],
   "source": [
    "import matplotlib.pyplot as plt"
   ]
  },
  {
   "cell_type": "code",
   "execution_count": 65,
   "id": "b6eebed4-fd88-468b-8fe7-600520ff02c6",
   "metadata": {},
   "outputs": [
    {
     "data": {
      "text/plain": [
       "<Figure size 720x432 with 0 Axes>"
      ]
     },
     "execution_count": 65,
     "metadata": {},
     "output_type": "execute_result"
    },
    {
     "data": {
      "text/plain": [
       "<BarContainer object of 47 artists>"
      ]
     },
     "execution_count": 65,
     "metadata": {},
     "output_type": "execute_result"
    },
    {
     "data": {
      "text/plain": [
       "Text(0.5, 0, 'Country')"
      ]
     },
     "execution_count": 65,
     "metadata": {},
     "output_type": "execute_result"
    },
    {
     "data": {
      "text/plain": [
       "Text(0, 0.5, 'Number of Orders')"
      ]
     },
     "execution_count": 65,
     "metadata": {},
     "output_type": "execute_result"
    },
    {
     "data": {
      "text/plain": [
       "Text(0.5, 1.0, 'Distribution of Orders by Country')"
      ]
     },
     "execution_count": 65,
     "metadata": {},
     "output_type": "execute_result"
    },
    {
     "data": {
      "image/png": "[encoded data removed]",
      "text/plain": [
       "<Figure size 720x432 with 1 Axes>"
      ]
     },
     "metadata": {
      "image/png": {
       "height": 386,
       "width": 631
      },
      "needs_background": "light"
     },
     "output_type": "display_data"
    }
   ],
   "source": [
    "country_counts = df.groupBy(\"country\").count().orderBy(\"count\", ascending=False).toPandas()\n",
    "plt.figure(figsize=(10, 6)) \n",
    "plt.bar(country_counts[\"country\"], country_counts[\"count\"])\n",
    "plt.xlabel(\"Country\")\n",
    "plt.ylabel(\"Number of Orders\")\n",
    "plt.title(\"Distribution of Orders by Country\")\n",
    "plt.show()"
   ]
  },
  {
   "cell_type": "code",
   "execution_count": 69,
   "id": "7f8c7d0d-ff47-4867-9c8c-1978623295bf",
   "metadata": {},
   "outputs": [
    {
     "data": {
      "text/plain": [
       "<Figure size 720x432 with 0 Axes>"
      ]
     },
     "execution_count": 69,
     "metadata": {},
     "output_type": "execute_result"
    },
    {
     "data": {
      "text/plain": [
       "<BarContainer object of 14 artists>"
      ]
     },
     "execution_count": 69,
     "metadata": {},
     "output_type": "execute_result"
    },
    {
     "data": {
      "text/plain": [
       "Text(0.5, 0, 'Colours')"
      ]
     },
     "execution_count": 69,
     "metadata": {},
     "output_type": "execute_result"
    },
    {
     "data": {
      "text/plain": [
       "Text(0, 0.5, 'Number of Orders')"
      ]
     },
     "execution_count": 69,
     "metadata": {},
     "output_type": "execute_result"
    },
    {
     "data": {
      "text/plain": [
       "Text(0.5, 1.0, 'Distribution of Orders by Colour')"
      ]
     },
     "execution_count": 69,
     "metadata": {},
     "output_type": "execute_result"
    },
    {
     "data": {
      "image/png": "[encoded data removed]",
      "text/plain": [
       "<Figure size 720x432 with 1 Axes>"
      ]
     },
     "metadata": {
      "image/png": {
       "height": 386,
       "width": 624
      },
      "needs_background": "light"
     },
     "output_type": "display_data"
    }
   ],
   "source": [
    "color_counts = df.groupBy(\"colour\").count().orderBy(\"count\", ascending=True).toPandas()\n",
    "plt.figure(figsize=(10, 6)) \n",
    "plt.bar(color_counts[\"colour\"], color_counts[\"count\"])\n",
    "plt.xlabel(\"Colours\")\n",
    "plt.ylabel(\"Number of Orders\")\n",
    "plt.title(\"Distribution of Orders by Colour\")\n",
    "plt.show()"
   ]
  },
  {
   "cell_type": "code",
   "execution_count": 70,
   "id": "6e051271-9b00-48e8-9764-d6a181e4e2aa",
   "metadata": {},
   "outputs": [
    {
     "data": {
      "text/plain": [
       "<Figure size 720x432 with 0 Axes>"
      ]
     },
     "execution_count": 70,
     "metadata": {},
     "output_type": "execute_result"
    },
    {
     "data": {
      "text/plain": [
       "<BarContainer object of 20 artists>"
      ]
     },
     "execution_count": 70,
     "metadata": {},
     "output_type": "execute_result"
    },
    {
     "data": {
      "text/plain": [
       "Text(0.5, 0, 'US Price')"
      ]
     },
     "execution_count": 70,
     "metadata": {},
     "output_type": "execute_result"
    },
    {
     "data": {
      "text/plain": [
       "Text(0, 0.5, 'Number of Orders')"
      ]
     },
     "execution_count": 70,
     "metadata": {},
     "output_type": "execute_result"
    },
    {
     "data": {
      "text/plain": [
       "Text(0.5, 1.0, 'Distribution of Orders by US Price')"
      ]
     },
     "execution_count": 70,
     "metadata": {},
     "output_type": "execute_result"
    },
    {
     "data": {
      "image/png": "[encoded data removed]",
      "text/plain": [
       "<Figure size 720x432 with 1 Axes>"
      ]
     },
     "metadata": {
      "image/png": {
       "height": 386,
       "width": 624
      },
      "needs_background": "light"
     },
     "output_type": "display_data"
    }
   ],
   "source": [
    "price_counts = df.groupBy(\"price\").count().orderBy(\"count\", ascending=True).toPandas()\n",
    "plt.figure(figsize=(10, 6)) \n",
    "plt.bar(price_counts[\"price\"], price_counts[\"count\"])\n",
    "plt.xlabel(\"US Price\")\n",
    "plt.ylabel(\"Number of Orders\")\n",
    "plt.title(\"Distribution of Orders by US Price\")\n",
    "plt.show()"
   ]
  },
  {
   "cell_type": "code",
   "execution_count": 71,
   "id": "a2646ef5-3c72-4669-9651-08795a8214e2",
   "metadata": {},
   "outputs": [],
   "source": [
    "##support vs confidence vs lift "
   ]
  },
  {
   "cell_type": "code",
   "execution_count": 72,
   "id": "dda2b603-4b24-4cac-a256-5bddd920bada",
   "metadata": {},
   "outputs": [],
   "source": [
    "##association rules"
   ]
  },
  {
   "cell_type": "code",
   "execution_count": 73,
   "id": "7cf4522a-7072-4d53-baeb-92f0204eb772",
   "metadata": {},
   "outputs": [],
   "source": [
    "##Correlation"
   ]
  },
  {
   "cell_type": "code",
   "execution_count": 74,
   "id": "f795c103-0b73-42aa-aed9-3d9d66aba95e",
   "metadata": {},
   "outputs": [],
   "source": [
    "##Network graph"
   ]
  },
  {
   "cell_type": "code",
   "execution_count": 75,
   "id": "b162f8c7-9238-4e7e-b7b5-8eb114f3bbe1",
   "metadata": {},
   "outputs": [],
   "source": [
    "##seaborn"
   ]
  },
  {
   "cell_type": "code",
   "execution_count": 76,
   "id": "7f7ea17f-783a-41b5-b242-2d8c49293ffe",
   "metadata": {},
   "outputs": [],
   "source": [
    "##boxplot"
   ]
  },
  {
   "cell_type": "code",
   "execution_count": null,
   "id": "e5579b72-1eaf-4fc8-8b1d-e365b868fd66",
   "metadata": {},
   "outputs": [],
   "source": []
  }
 ],
 "metadata": {
  "kernelspec": {
   "display_name": "Python 3 (ipykernel)",
   "language": "python",
   "name": "python3"
  },
  "language_info": {
   "codemirror_mode": {
    "name": "ipython",
    "version": 3
   },
   "file_extension": ".py",
   "mimetype": "text/x-python",
   "name": "python",
   "nbconvert_exporter": "python",
   "pygments_lexer": "ipython3",
   "version": "3.9.10"
  }
 },
 "nbformat": 4,
 "nbformat_minor": 5
}
